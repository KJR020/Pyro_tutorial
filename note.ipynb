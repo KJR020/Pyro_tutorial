{
 "cells": [
  {
   "attachments": {},
   "cell_type": "markdown",
   "metadata": {},
   "source": [
    "# Pyroによる確率モデリング\n",
    "https://pyro-book.data-hacker.net/docs/pyro_modeling/"
   ]
  },
  {
   "cell_type": "code",
   "execution_count": 25,
   "metadata": {},
   "outputs": [],
   "source": [
    "import matplotlib.pyplot as plt\n",
    "import numpy as np\n",
    "import pyro\n",
    "import pyro.distributions as dist\n",
    "from pyro import poutine\n",
    "import torch"
   ]
  },
  {
   "attachments": {},
   "cell_type": "markdown",
   "metadata": {},
   "source": [
    "## 確率プリミティブ\n",
    "一般的にベイズ学習において確率モデルは確率的に実現値が変動する「確率変数」の組み合わせで構成される。\n",
    "\n",
    "\n",
    "Pyro上で確率変数を宣言するものが確率プリミティブ"
   ]
  },
  {
   "cell_type": "code",
   "execution_count": 9,
   "metadata": {},
   "outputs": [
    {
     "data": {
      "text/plain": [
       "tensor(-0.2359)"
      ]
     },
     "execution_count": 9,
     "metadata": {},
     "output_type": "execute_result"
    }
   ],
   "source": [
    "x = pyro.sample(\"X\",dist.Normal(0,1) ) #\"X\"を正規分布N(0,1)に従う確率変数として定義\n",
    "x"
   ]
  },
  {
   "cell_type": "code",
   "execution_count": 10,
   "metadata": {},
   "outputs": [
    {
     "data": {
      "text/plain": [
       "(array([   2.,    2.,   21.,   42.,  128.,  275.,  520.,  833., 1233.,\n",
       "        1440., 1499., 1369., 1077.,  760.,  435.,  240.,   79.,   34.,\n",
       "           9.,    2.]),\n",
       " array([-3.9515595 , -3.5670853 , -3.1826108 , -2.7981365 , -2.413662  ,\n",
       "        -2.0291877 , -1.6447133 , -1.2602389 , -0.87576455, -0.49129018,\n",
       "        -0.10681581,  0.27765855,  0.6621329 ,  1.0466073 ,  1.4310817 ,\n",
       "         1.815556  ,  2.2000303 ,  2.5845048 ,  2.9689791 ,  3.3534536 ,\n",
       "         3.737928  ], dtype=float32),\n",
       " <BarContainer object of 20 artists>)"
      ]
     },
     "execution_count": 10,
     "metadata": {},
     "output_type": "execute_result"
    },
    {
     "data": {
      "image/png": "[encoded data removed]",
      "text/plain": [
       "<Figure size 640x480 with 1 Axes>"
      ]
     },
     "metadata": {},
     "output_type": "display_data"
    }
   ],
   "source": [
    "# for文によるサンプリング\n",
    "x_list = []\n",
    "for _ in range(10000):\n",
    "    x = pyro.sample(\"X\", dist.Normal(0,1))\n",
    "    x_list.append(x)\n",
    "plt.hist(x_list, bins=20)"
   ]
  },
  {
   "cell_type": "code",
   "execution_count": 11,
   "metadata": {},
   "outputs": [
    {
     "name": "stdout",
     "output_type": "stream",
     "text": [
      "var_type is <class 'torch.Tensor'>, shape = torch.Size([10000])\n"
     ]
    },
    {
     "data": {
      "text/plain": [
       "(array([1.000e+00, 4.000e+00, 9.000e+00, 4.200e+01, 8.600e+01, 2.260e+02,\n",
       "        4.380e+02, 7.110e+02, 1.127e+03, 1.363e+03, 1.581e+03, 1.521e+03,\n",
       "        1.155e+03, 8.380e+02, 4.690e+02, 2.610e+02, 1.070e+02, 4.700e+01,\n",
       "        1.100e+01, 3.000e+00]),\n",
       " array([-4.1403027 , -3.7499309 , -3.3595588 , -2.969187  , -2.5788152 ,\n",
       "        -2.1884432 , -1.7980714 , -1.4076995 , -1.0173275 , -0.6269557 ,\n",
       "        -0.23658383,  0.15378806,  0.54415995,  0.9345318 ,  1.3249037 ,\n",
       "         1.7152755 ,  2.1056476 ,  2.4960194 ,  2.8863912 ,  3.2767632 ,\n",
       "         3.667135  ], dtype=float32),\n",
       " <BarContainer object of 20 artists>)"
      ]
     },
     "execution_count": 11,
     "metadata": {},
     "output_type": "execute_result"
    },
    {
     "data": {
      "image/png": "[encoded data removed]",
      "text/plain": [
       "<Figure size 640x480 with 1 Axes>"
      ]
     },
     "metadata": {},
     "output_type": "display_data"
    }
   ],
   "source": [
    "# plateを用いたサンプリング\n",
    "with pyro.plate(\"plate1\", size=10000):\n",
    "    samples = pyro.sample(\"samples\", dist.Normal(0,1))\n",
    "print(\"var_type is {}, shape = {}\".format(type(samples), samples.shape))\n",
    "plt.hist(samples, bins=20)"
   ]
  },
  {
   "attachments": {},
   "cell_type": "markdown",
   "metadata": {},
   "source": [
    "## 確率モデルの宣言\n",
    "\n",
    "確率モデルは、確率プリミティブの演算の組み合わせで構成されたpython関数として宣言\n",
    "\n",
    "例：赤玉白玉問題\n",
    "\n",
    "２つの袋a, bにそれぞれ\n",
    "\n",
    "a:赤２個、白1個\n",
    "\n",
    "b:赤１個、白３個\n",
    "\n",
    "一つの袋から１つ玉を取り出す試行の例"
   ]
  },
  {
   "cell_type": "code",
   "execution_count": 13,
   "metadata": {},
   "outputs": [],
   "source": [
    "def ball_model():\n",
    "    x = pyro.sample(\"X\", dist.Bernoulli(0.5))\n",
    "    if x:\n",
    "        y = pyro.sample(\"Y\", dist.Bernoulli(2.0/3.0))\n",
    "    else:\n",
    "        y = pyro.sample(\"Y\", dist.Bernoulli(1.0/4.0))\n",
    "    return y"
   ]
  },
  {
   "cell_type": "code",
   "execution_count": 14,
   "metadata": {},
   "outputs": [
    {
     "name": "stdout",
     "output_type": "stream",
     "text": [
      "tensor(1.)\n",
      "tensor(1.)\n",
      "tensor(1.)\n",
      "tensor(1.)\n",
      "tensor(0.)\n"
     ]
    }
   ],
   "source": [
    "# 動作確認\n",
    "for _ in range(5):\n",
    "    print(ball_model())"
   ]
  },
  {
   "cell_type": "code",
   "execution_count": 19,
   "metadata": {},
   "outputs": [],
   "source": [
    "# 複雑な確率モデル\n",
    "def geometric(p, t=None):\n",
    "    if t is None:\n",
    "        t = 0\n",
    "    x = pyro.sample(\"x_{}\".format(t), pyro.distributions.Bernoulli(p))\n",
    "    if x.item() == 1:\n",
    "        return 0\n",
    "    else:\n",
    "        return 1 - geometric(p, t+1)"
   ]
  },
  {
   "cell_type": "code",
   "execution_count": 20,
   "metadata": {},
   "outputs": [
    {
     "name": "stdout",
     "output_type": "stream",
     "text": [
      "1\n"
     ]
    }
   ],
   "source": [
    "print(geometric(0.5))"
   ]
  },
  {
   "attachments": {},
   "cell_type": "markdown",
   "metadata": {},
   "source": [
    "## エフェクト・ハンドラ　poutine\n",
    "\n",
    "ベイズ推定では、確率モデルの挙動を記録したり、挙動を修正（条件付けなど）など、確率モデルをハンドリングする必要がある\n",
    "\n",
    "そのようなハンドリング機能を担うのがpoutine"
   ]
  },
  {
   "cell_type": "code",
   "execution_count": null,
   "metadata": {},
   "outputs": [],
   "source": [
    "traced_model = poutine.trace(model_fn) # TraceMessengerオブジェクトを取得\n",
    "trace = traced_model.get_trace() # Traceオブジェクトを取得"
   ]
  },
  {
   "cell_type": "code",
   "execution_count": 24,
   "metadata": {},
   "outputs": [
    {
     "name": "stdout",
     "output_type": "stream",
     "text": [
      "('_INPUT', {'name': '_INPUT', 'type': 'args', 'args': (), 'kwargs': {}})\n",
      "('loc', {'type': 'sample', 'name': 'loc', 'fn': Normal(loc: 0.0, scale: 1.0), 'is_observed': False, 'args': (), 'kwargs': {}, 'value': tensor(0.8274), 'infer': {}, 'scale': 1.0, 'mask': None, 'cond_indep_stack': (), 'done': True, 'stop': False, 'continuation': None})\n",
      "('elasticity', {'type': 'sample', 'name': 'elasticity', 'fn': Uniform(low: 0.0, high: 2.0), 'is_observed': False, 'args': (), 'kwargs': {}, 'value': tensor(0.6646), 'infer': {}, 'scale': 1.0, 'mask': None, 'cond_indep_stack': (), 'done': True, 'stop': False, 'continuation': None})\n",
      "('plate', {'type': 'sample', 'name': 'plate', 'fn': <pyro.poutine.subsample_messenger._Subsample object at 0x7f749358c790>, 'is_observed': False, 'args': (), 'kwargs': {}, 'value': tensor([0, 1, 2, 3, 4]), 'infer': {}, 'scale': 1.0, 'mask': None, 'cond_indep_stack': (), 'done': True, 'stop': False, 'continuation': None})\n",
      "('position', {'type': 'sample', 'name': 'position', 'fn': Normal(loc: torch.Size([5]), scale: torch.Size([5])), 'is_observed': False, 'args': (), 'kwargs': {}, 'value': tensor([0.7319, 0.4282, 1.4727, 0.3898, 0.5767]), 'infer': {}, 'scale': 1.0, 'mask': None, 'cond_indep_stack': (CondIndepStackFrame(name='plate', dim=-1, size=5, counter=0),), 'done': True, 'stop': False, 'continuation': None})\n",
      "('_RETURN', {'name': '_RETURN', 'type': 'return', 'value': tensor([0.7319, 0.4282, 1.4727, 0.3898, 0.5767])})\n"
     ]
    }
   ],
   "source": [
    "tr = trace(ball_model).get_trace()\n",
    "for tr_items in tr.nodes.items():\n",
    "    print(tr_items)"
   ]
  },
  {
   "attachments": {},
   "cell_type": "markdown",
   "metadata": {},
   "source": [
    "## 条件付　condition\n",
    "\n",
    "conditionハンドラを用いてモデルないの各確率変数の実現値を固定（条件付）してサンプリングが可能\n",
    "\n",
    "conditionハンドラを用いると、例えば、確率モデルのすべての確率変数の実現値を固定した上でサンプリングして、その確率を求めると同時確率を求められる\n"
   ]
  },
  {
   "cell_type": "code",
   "execution_count": 31,
   "metadata": {},
   "outputs": [
    {
     "name": "stdout",
     "output_type": "stream",
     "text": [
      "('_INPUT', {'name': '_INPUT', 'type': 'args', 'args': (), 'kwargs': {}})\n",
      "('loc', {'type': 'sample', 'name': 'loc', 'fn': Normal(loc: 0.0, scale: 1.0), 'is_observed': False, 'args': (), 'kwargs': {}, 'value': tensor(1.0921), 'infer': {}, 'scale': 1.0, 'mask': None, 'cond_indep_stack': (), 'done': True, 'stop': False, 'continuation': None})\n",
      "('elasticity', {'type': 'sample', 'name': 'elasticity', 'fn': Uniform(low: 0.0, high: 2.0), 'is_observed': False, 'args': (), 'kwargs': {}, 'value': tensor(0.4793), 'infer': {}, 'scale': 1.0, 'mask': None, 'cond_indep_stack': (), 'done': True, 'stop': False, 'continuation': None})\n",
      "('plate', {'type': 'sample', 'name': 'plate', 'fn': <pyro.poutine.subsample_messenger._Subsample object at 0x7f7493401510>, 'is_observed': False, 'args': (), 'kwargs': {}, 'value': tensor([0, 1, 2, 3, 4]), 'infer': {}, 'scale': 1.0, 'mask': None, 'cond_indep_stack': (), 'done': True, 'stop': False, 'continuation': None})\n",
      "('position', {'type': 'sample', 'name': 'position', 'fn': Normal(loc: torch.Size([5]), scale: torch.Size([5])), 'is_observed': False, 'args': (), 'kwargs': {}, 'value': tensor([1.6286, 0.8870, 1.0764, 0.9643, 0.9483]), 'infer': {}, 'scale': 1.0, 'mask': None, 'cond_indep_stack': (CondIndepStackFrame(name='plate', dim=-1, size=5, counter=0),), 'done': True, 'stop': False, 'continuation': None})\n",
      "('_RETURN', {'name': '_RETURN', 'type': 'return', 'value': tensor([1.6286, 0.8870, 1.0764, 0.9643, 0.9483])})\n",
      "p(X=1|Y=1) =  0.019744016230106354\n"
     ]
    }
   ],
   "source": [
    "cond_dict = {\"X\":torch.tensor(1.), \"Y\":torch.tensor(1.)} # 袋a=1, 赤玉=1\n",
    "conditioned_model = pyro.condition(ball_model, cond_dict)\n",
    "\n",
    "tr = trace(conditioned_model).get_trace()\n",
    "for tr_items in tr.nodes.items():\n",
    "    print(tr_items)\n",
    "\n",
    "print(\"p(X=1|Y=1) = \", tr.log_prob_sum().exp().item())"
   ]
  },
  {
   "attachments": {},
   "cell_type": "markdown",
   "metadata": {},
   "source": [
    "# 確率分布の取り扱い"
   ]
  },
  {
   "attachments": {},
   "cell_type": "markdown",
   "metadata": {},
   "source": [
    "## 実現値のサンプリング"
   ]
  },
  {
   "cell_type": "code",
   "execution_count": 32,
   "metadata": {},
   "outputs": [
    {
     "name": "stdout",
     "output_type": "stream",
     "text": [
      "tensor(-2.2510)\n"
     ]
    }
   ],
   "source": [
    "normal_1d = dist.Normal(0.0, 1.0)\n",
    "print(normal_1d.sample())"
   ]
  },
  {
   "cell_type": "code",
   "execution_count": 34,
   "metadata": {},
   "outputs": [
    {
     "name": "stdout",
     "output_type": "stream",
     "text": [
      "tensor([-1.5329, -0.2884])\n"
     ]
    }
   ],
   "source": [
    "normal_2d = dist.MultivariateNormal(torch.zeros(2), torch.eye(2))\n",
    "print(normal_2d.sample())"
   ]
  },
  {
   "cell_type": "code",
   "execution_count": 36,
   "metadata": {},
   "outputs": [
    {
     "name": "stdout",
     "output_type": "stream",
     "text": [
      "tensor([[-0.5000,  0.1641, -0.0962],\n",
      "        [ 1.4317,  0.0978,  0.4371]])\n"
     ]
    }
   ],
   "source": [
    "# sample関数にtorch.Sizeを渡すことで、指定のshapeでサンプリング可能\n",
    "normal_1d = dist.Normal(0.0, 1.0)\n",
    "samples = normal_1d.sample(torch.Size([2,3]))\n",
    "print(samples) # ここでサンプリングされた値間は独立同分布(IID)の関係にある"
   ]
  },
  {
   "cell_type": "code",
   "execution_count": 38,
   "metadata": {},
   "outputs": [
    {
     "name": "stdout",
     "output_type": "stream",
     "text": [
      "tensor(1.)\n"
     ]
    }
   ],
   "source": [
    "x = pyro.sample(\"X\", dist.Bernoulli(0.5))\n",
    "print(x)"
   ]
  },
  {
   "attachments": {},
   "cell_type": "markdown",
   "metadata": {},
   "source": [
    "## 確率（密度）の取得\n",
    "各確率分布において、指定された値が実現値となる確率を計算するには、log_prob関数を使用する\n",
    "\n",
    "これは、対数確率密度を計算するため、生の確率密度値を計算する場合には、np.exp()を使用する"
   ]
  },
  {
   "cell_type": "code",
   "execution_count": 39,
   "metadata": {},
   "outputs": [
    {
     "name": "stdout",
     "output_type": "stream",
     "text": [
      "tensor([0.6000, 0.4000])\n"
     ]
    }
   ],
   "source": [
    "bel_dist = dist.Bernoulli(0.6)\n",
    "x = torch.tensor([1.0, 0.0])\n",
    "log_prob_x = bel_dist.log_prob(x)\n",
    "print(np.exp(log_prob_x))"
   ]
  },
  {
   "attachments": {},
   "cell_type": "markdown",
   "metadata": {},
   "source": [
    "## batch_shapeとevent_shape"
   ]
  },
  {
   "attachments": {},
   "cell_type": "markdown",
   "metadata": {},
   "source": [
    "### batch_shape\n",
    "確率分布のパラメータをTensor型で複数与えることで、同種の分布だが異なるパラメータで特徴づけられた複数の分布を同時に定義することができる"
   ]
  },
  {
   "cell_type": "code",
   "execution_count": 40,
   "metadata": {},
   "outputs": [
    {
     "name": "stdout",
     "output_type": "stream",
     "text": [
      "batch_shape =  torch.Size([2])\n"
     ]
    }
   ],
   "source": [
    "locs = torch.tensor([0.0, 3.0])\n",
    "sds = torch.tensor([1.0, 0.5])\n",
    "normal_1d_cond = dist.Normal(locs, sds)\n",
    "print(\"batch_shape = \", normal_1d_cond.batch_shape)"
   ]
  },
  {
   "cell_type": "code",
   "execution_count": 44,
   "metadata": {},
   "outputs": [
    {
     "name": "stdout",
     "output_type": "stream",
     "text": [
      "samples.shape = torch.Size([10000, 2])\n"
     ]
    },
    {
     "data": {
      "image/png": "[encoded data removed]",
      "text/plain": [
       "<Figure size 640x480 with 1 Axes>"
      ]
     },
     "metadata": {},
     "output_type": "display_data"
    }
   ],
   "source": [
    "samples = normal_1d_cond.sample(torch.Size([10000]))\n",
    "print(\"samples.shape =\", samples.shape)\n",
    "\n",
    "plt.hist(samples[:,0], alpha=0.3)\n",
    "plt.hist(samples[:,1], alpha=0.3)\n",
    "plt.xlabel(\"X\")\n",
    "plt.ylabel(\"Frequency\")\n",
    "plt.show()"
   ]
  },
  {
   "cell_type": "code",
   "execution_count": 45,
   "metadata": {},
   "outputs": [
    {
     "name": "stdout",
     "output_type": "stream",
     "text": [
      "tensor([0.2420, 0.0003])\n",
      "True\n"
     ]
    }
   ],
   "source": [
    "log_prob_x = normal_1d_cond.log_prob(torch.Tensor([1.0]))\n",
    "print(np.exp(log_prob_x))\n",
    "print(log_prob_x.shape == normal_1d_cond.batch_shape)"
   ]
  },
  {
   "attachments": {},
   "cell_type": "markdown",
   "metadata": {},
   "source": [
    "### event_shape\n",
    "\n",
    "Pyroの確率分布はevent_shapeという属性が設定される。\n",
    "\n",
    "この属性は、確率分布の従属変数の数（＝サンプルされる実現値の次元数）が格納されている\n"
   ]
  },
  {
   "cell_type": "code",
   "execution_count": 46,
   "metadata": {},
   "outputs": [
    {
     "name": "stdout",
     "output_type": "stream",
     "text": [
      "(x, y)= tensor([-1.6056,  0.4872])\n",
      "torch.Size([2])\n",
      "P(x,y) = tensor(0.0389)\n"
     ]
    }
   ],
   "source": [
    "# 二次元正規分布の例\n",
    "normal_2d = dist.MultivariateNormal(torch.zeros(2), torch.eye(2))\n",
    "sampled = normal_2d.sample()\n",
    "print(\"(x, y)=\", sampled)\n",
    "print(normal_2d.event_shape)\n",
    "print(\"P(x,y) =\", np.exp(normal_2d.log_prob(sampled)))\n"
   ]
  },
  {
   "attachments": {},
   "cell_type": "markdown",
   "metadata": {},
   "source": [
    "### 従属変数化 to_event()"
   ]
  },
  {
   "cell_type": "code",
   "execution_count": 47,
   "metadata": {},
   "outputs": [
    {
     "name": "stdout",
     "output_type": "stream",
     "text": [
      "bern_dist.batch_shape = torch.Size([2, 2])\n",
      "P(X=1) = tensor([[0.3000, 0.8000],\n",
      "        [0.1000, 1.0000]])\n"
     ]
    }
   ],
   "source": [
    "ps = torch.Tensor([[0.3, 0.8], [0.1, 1.0]])\n",
    "bern_dist = dist.Bernoulli(ps)\n",
    "print(\"bern_dist.batch_shape =\", bern_dist.batch_shape)\n",
    "\n",
    "# 2*2=4つの異なるパラメータの確率分布それぞれのP(X=1)を計算\n",
    "val = torch.Tensor([1.0])\n",
    "print(\"P(X=1) =\", np.exp(bern_dist.log_prob(val)))"
   ]
  },
  {
   "cell_type": "code",
   "execution_count": 48,
   "metadata": {},
   "outputs": [
    {
     "name": "stdout",
     "output_type": "stream",
     "text": [
      "bern_dist2.batch_shape =  torch.Size([2])\n",
      "bern_dist2.event_shape =  torch.Size([2])\n",
      "P(X=1) = tensor([0.2400, 0.1000])\n"
     ]
    }
   ],
   "source": [
    "bern_dist2 = bern_dist.to_event(1)\n",
    "print(\"bern_dist2.batch_shape = \", bern_dist2.batch_shape)\n",
    "print(\"bern_dist2.event_shape = \", bern_dist2.event_shape)\n",
    "\n",
    "val = torch.Tensor([1.0])\n",
    "print(\"P(X=1) =\", np.exp(bern_dist2.log_prob(val)))\n"
   ]
  },
  {
   "attachments": {},
   "cell_type": "markdown",
   "metadata": {},
   "source": [
    "# 変分推論の基礎\n",
    "\n",
    "## おさらい\n",
    "\n",
    "1. ベイズ学習とは、観測データ$\\mathbf{X}$が得られたという条件下での未知のパラメータ$\\mathbf{w}$の確率分布、すなわち$p(\\mathbf{w}|\\mathbf{x})$を学習する作業である。\n",
    "\n",
    "2. 一般的にベイズ学習は①対象とする事象の生成過程を確率モデルとしてモデリングし、②確率モデルと観測データをもとに未知のパラメータを推論する、という枠組みで行う。\n",
    "\n",
    "3. 条件付き確率の定義から、$\\mathbf{W}$が離散変数の場合,$$p(\\mathbf{w}|\\mathbf{X})=\\frac{p(\\mathbf{w},\\mathbf{X})}{p(\\mathbf{X})}=\\frac{p(\\mathbf{w},\\mathbf{X})}{\\sum_{\\mathbf{w}} p(\\mathbf{w},\\mathbf{X})}\\tag{1}$$もしくは$\\mathbf{W}$が連続変数の場合、$$\n",
    "p(\\mathbf{w}|\\mathbf{X})=\\frac{p(\\mathbf{w},\\mathbf{X})}{p(\\mathbf{X})}=\\frac{p(\\mathbf{w},\\mathbf{X})} {\\int_{\\mathbf{w}}p(\\mathbf{w},\\mathbf{X})d\\mathbf{w}}\\tag{2}$$を計算することで、$p(\\mathbf{w}|\\mathbf{X})$を推論する。"
   ]
  },
  {
   "cell_type": "code",
   "execution_count": null,
   "metadata": {},
   "outputs": [],
   "source": []
  },
  {
   "cell_type": "code",
   "execution_count": null,
   "metadata": {},
   "outputs": [],
   "source": []
  },
  {
   "cell_type": "code",
   "execution_count": null,
   "metadata": {},
   "outputs": [],
   "source": []
  },
  {
   "cell_type": "code",
   "execution_count": null,
   "metadata": {},
   "outputs": [],
   "source": []
  }
 ],
 "metadata": {
  "kernelspec": {
   "display_name": "Python 3",
   "language": "python",
   "name": "python3"
  },
  "language_info": {
   "codemirror_mode": {
    "name": "ipython",
    "version": 3
   },
   "file_extension": ".py",
   "mimetype": "text/x-python",
   "name": "python",
   "nbconvert_exporter": "python",
   "pygments_lexer": "ipython3",
   "version": "3.7.12"
  },
  "orig_nbformat": 4
 },
 "nbformat": 4,
 "nbformat_minor": 2
}
